{
  "nbformat": 4,
  "nbformat_minor": 0,
  "metadata": {
    "colab": {
      "name": "Data 6.ipynb",
      "provenance": [],
      "authorship_tag": "ABX9TyNIxQEGF0/+jdsR/pSk/nx5",
      "include_colab_link": true
    },
    "kernelspec": {
      "name": "ir",
      "display_name": "R"
    },
    "language_info": {
      "name": "R"
    }
  },
  "cells": [
    {
      "cell_type": "markdown",
      "metadata": {
        "id": "view-in-github",
        "colab_type": "text"
      },
      "source": [
        "<a href=\"https://colab.research.google.com/github/1Kristin/Linear_Algebra_Coding_project/blob/main/Data_6.ipynb\" target=\"_parent\"><img src=\"https://colab.research.google.com/assets/colab-badge.svg\" alt=\"Open In Colab\"/></a>"
      ]
    },
    {
      "cell_type": "code",
      "execution_count": 83,
      "metadata": {
        "id": "Yff7RqF7be6c"
      },
      "outputs": [],
      "source": [
        "library('dplyr')\n",
        "artists <- read.csv('https://github.com/MuseumofModernArt/collection/raw/master/Artists.csv')\n",
        "artworks <- read.csv('https://github.com/MuseumofModernArt/collection/raw/master/Artworks.csv')\n"
      ]
    },
    {
      "cell_type": "code",
      "source": [
        "(artists\n",
        "%>% mutate(BirthDate = ifelse(BeginDate == 0, \"NA\", BeginDate))\n",
        ")"
      ],
      "metadata": {
        "id": "bfYxI4hecmOr"
      },
      "execution_count": null,
      "outputs": []
    },
    {
      "cell_type": "code",
      "source": [
        "(artists\n",
        " %>% mutate(BirthDate = floor(BeginDate/10)*10)\n",
        " %>% mutate(BirthDate = ifelse(BirthDate == 0, \"NA\", BirthDate))\n",
        " %>% group_by(BirthDate)\n",
        " %>% summarise(cnt =n())\n",
        " )"
      ],
      "metadata": {
        "id": "WJRomjoiqBvp"
      },
      "execution_count": null,
      "outputs": []
    },
    {
      "cell_type": "code",
      "source": [
        "(artworks\n",
        "%>% mutate(depth = Depth..cm.) \n",
        "%>% mutate(height = Height..cm.)\n",
        "%>% mutate(width = Width..cm.)\n",
        "%>% group_by(depth, height, width)\n",
        "%>% summarise(cnt = n(), avg.depth = mean(depth), avg.)\n",
        ")"
      ],
      "metadata": {
        "colab": {
          "base_uri": "https://localhost:8080/",
          "height": 1000
        },
        "id": "kHkMUnW5teWK",
        "outputId": "d4b95461-4a60-4918-bdf5-7803bcede595"
      },
      "execution_count": 108,
      "outputs": [
        {
          "output_type": "stream",
          "name": "stderr",
          "text": [
            "\u001b[1m\u001b[22m`summarise()` has grouped output by 'depth', 'height'. You can override using\n",
            "the `.groups` argument.\n"
          ]
        },
        {
          "output_type": "display_data",
          "data": {
            "text/html": [
              "<table class=\"dataframe\">\n",
              "<caption>A grouped_df: 63379 × 5</caption>\n",
              "<thead>\n",
              "\t<tr><th scope=col>depth</th><th scope=col>height</th><th scope=col>width</th><th scope=col>cnt</th><th scope=col>avg.depth</th></tr>\n",
              "\t<tr><th scope=col>&lt;dbl&gt;</th><th scope=col>&lt;dbl&gt;</th><th scope=col>&lt;dbl&gt;</th><th scope=col>&lt;int&gt;</th><th scope=col>&lt;dbl&gt;</th></tr>\n",
              "</thead>\n",
              "<tbody>\n",
              "\t<tr><td>0</td><td>0.000000</td><td>   0.000000</td><td>1764</td><td>0</td></tr>\n",
              "\t<tr><td>0</td><td>0.000000</td><td>  20.955042</td><td>   2</td><td>0</td></tr>\n",
              "\t<tr><td>0</td><td>0.000000</td><td>  22.860046</td><td>   1</td><td>0</td></tr>\n",
              "\t<tr><td>0</td><td>0.000000</td><td>  23.495047</td><td>   1</td><td>0</td></tr>\n",
              "\t<tr><td>0</td><td>0.000000</td><td>  24.130048</td><td>  11</td><td>0</td></tr>\n",
              "\t<tr><td>0</td><td>0.000000</td><td>  25.400051</td><td>   2</td><td>0</td></tr>\n",
              "\t<tr><td>0</td><td>0.000000</td><td>  26.035052</td><td>   1</td><td>0</td></tr>\n",
              "\t<tr><td>0</td><td>0.000000</td><td>  26.670053</td><td>   4</td><td>0</td></tr>\n",
              "\t<tr><td>0</td><td>0.000000</td><td>  27.940056</td><td>   1</td><td>0</td></tr>\n",
              "\t<tr><td>0</td><td>0.000000</td><td>  35.560071</td><td>   1</td><td>0</td></tr>\n",
              "\t<tr><td>0</td><td>0.000000</td><td> 122.000000</td><td>   1</td><td>0</td></tr>\n",
              "\t<tr><td>0</td><td>0.000000</td><td>1025.000000</td><td>   1</td><td>0</td></tr>\n",
              "\t<tr><td>0</td><td>0.000000</td><td>1200.000000</td><td>   1</td><td>0</td></tr>\n",
              "\t<tr><td>0</td><td>1.900000</td><td>   6.400000</td><td>   1</td><td>0</td></tr>\n",
              "\t<tr><td>0</td><td>2.500000</td><td>   0.000000</td><td>   1</td><td>0</td></tr>\n",
              "\t<tr><td>0</td><td>2.540005</td><td>   3.810008</td><td>   1</td><td>0</td></tr>\n",
              "\t<tr><td>0</td><td>2.600000</td><td>   4.000000</td><td>   1</td><td>0</td></tr>\n",
              "\t<tr><td>0</td><td>2.600000</td><td>   7.200000</td><td>   1</td><td>0</td></tr>\n",
              "\t<tr><td>0</td><td>3.016256</td><td> 320.040640</td><td>   1</td><td>0</td></tr>\n",
              "\t<tr><td>0</td><td>3.200000</td><td>   2.500000</td><td>   1</td><td>0</td></tr>\n",
              "\t<tr><td>0</td><td>4.300000</td><td>   7.000000</td><td>   1</td><td>0</td></tr>\n",
              "\t<tr><td>0</td><td>4.300000</td><td>  14.700000</td><td>   1</td><td>0</td></tr>\n",
              "\t<tr><td>0</td><td>4.500000</td><td>   7.700000</td><td>   1</td><td>0</td></tr>\n",
              "\t<tr><td>0</td><td>4.500000</td><td>  10.300000</td><td>   1</td><td>0</td></tr>\n",
              "\t<tr><td>0</td><td>4.762510</td><td>   7.620015</td><td>   1</td><td>0</td></tr>\n",
              "\t<tr><td>0</td><td>4.921260</td><td>   4.921260</td><td>   1</td><td>0</td></tr>\n",
              "\t<tr><td>0</td><td>5.000000</td><td>   4.100000</td><td>   1</td><td>0</td></tr>\n",
              "\t<tr><td>0</td><td>5.000000</td><td>   6.400000</td><td>   1</td><td>0</td></tr>\n",
              "\t<tr><td>0</td><td>5.000000</td><td>  10.000000</td><td>   1</td><td>0</td></tr>\n",
              "\t<tr><td>0</td><td>5.000000</td><td>  10.100000</td><td>   7</td><td>0</td></tr>\n",
              "\t<tr><td>⋮</td><td>⋮</td><td>⋮</td><td>⋮</td><td>⋮</td></tr>\n",
              "\t<tr><td>NA</td><td>NA</td><td>121.9000</td><td>    1</td><td>NA</td></tr>\n",
              "\t<tr><td>NA</td><td>NA</td><td>121.9202</td><td>    5</td><td>NA</td></tr>\n",
              "\t<tr><td>NA</td><td>NA</td><td>121.9202</td><td>    3</td><td>NA</td></tr>\n",
              "\t<tr><td>NA</td><td>NA</td><td>123.2000</td><td>    1</td><td>NA</td></tr>\n",
              "\t<tr><td>NA</td><td>NA</td><td>127.0000</td><td>    2</td><td>NA</td></tr>\n",
              "\t<tr><td>NA</td><td>NA</td><td>128.2000</td><td>    1</td><td>NA</td></tr>\n",
              "\t<tr><td>NA</td><td>NA</td><td>128.2703</td><td>    1</td><td>NA</td></tr>\n",
              "\t<tr><td>NA</td><td>NA</td><td>132.1000</td><td>    1</td><td>NA</td></tr>\n",
              "\t<tr><td>NA</td><td>NA</td><td>133.3000</td><td>    1</td><td>NA</td></tr>\n",
              "\t<tr><td>NA</td><td>NA</td><td>134.6000</td><td>    1</td><td>NA</td></tr>\n",
              "\t<tr><td>NA</td><td>NA</td><td>135.8903</td><td>    1</td><td>NA</td></tr>\n",
              "\t<tr><td>NA</td><td>NA</td><td>136.5253</td><td>    1</td><td>NA</td></tr>\n",
              "\t<tr><td>NA</td><td>NA</td><td>137.1603</td><td>    7</td><td>NA</td></tr>\n",
              "\t<tr><td>NA</td><td>NA</td><td>139.7000</td><td>    1</td><td>NA</td></tr>\n",
              "\t<tr><td>NA</td><td>NA</td><td>139.7003</td><td>    1</td><td>NA</td></tr>\n",
              "\t<tr><td>NA</td><td>NA</td><td>142.2403</td><td>    1</td><td>NA</td></tr>\n",
              "\t<tr><td>NA</td><td>NA</td><td>143.5103</td><td>    1</td><td>NA</td></tr>\n",
              "\t<tr><td>NA</td><td>NA</td><td>146.0503</td><td>    2</td><td>NA</td></tr>\n",
              "\t<tr><td>NA</td><td>NA</td><td>161.2903</td><td>    1</td><td>NA</td></tr>\n",
              "\t<tr><td>NA</td><td>NA</td><td>162.5000</td><td>    1</td><td>NA</td></tr>\n",
              "\t<tr><td>NA</td><td>NA</td><td>193.0000</td><td>    2</td><td>NA</td></tr>\n",
              "\t<tr><td>NA</td><td>NA</td><td>199.3904</td><td>    1</td><td>NA</td></tr>\n",
              "\t<tr><td>NA</td><td>NA</td><td>233.7000</td><td>    1</td><td>NA</td></tr>\n",
              "\t<tr><td>NA</td><td>NA</td><td>243.8405</td><td>    1</td><td>NA</td></tr>\n",
              "\t<tr><td>NA</td><td>NA</td><td>289.5606</td><td>    1</td><td>NA</td></tr>\n",
              "\t<tr><td>NA</td><td>NA</td><td>290.1956</td><td>    1</td><td>NA</td></tr>\n",
              "\t<tr><td>NA</td><td>NA</td><td>295.9106</td><td>    1</td><td>NA</td></tr>\n",
              "\t<tr><td>NA</td><td>NA</td><td>307.3406</td><td>    1</td><td>NA</td></tr>\n",
              "\t<tr><td>NA</td><td>NA</td><td>800.1016</td><td>    2</td><td>NA</td></tr>\n",
              "\t<tr><td>NA</td><td>NA</td><td>      NA</td><td>17261</td><td>NA</td></tr>\n",
              "</tbody>\n",
              "</table>\n"
            ],
            "text/markdown": "\nA grouped_df: 63379 × 5\n\n| depth &lt;dbl&gt; | height &lt;dbl&gt; | width &lt;dbl&gt; | cnt &lt;int&gt; | avg.depth &lt;dbl&gt; |\n|---|---|---|---|---|\n| 0 | 0.000000 |    0.000000 | 1764 | 0 |\n| 0 | 0.000000 |   20.955042 |    2 | 0 |\n| 0 | 0.000000 |   22.860046 |    1 | 0 |\n| 0 | 0.000000 |   23.495047 |    1 | 0 |\n| 0 | 0.000000 |   24.130048 |   11 | 0 |\n| 0 | 0.000000 |   25.400051 |    2 | 0 |\n| 0 | 0.000000 |   26.035052 |    1 | 0 |\n| 0 | 0.000000 |   26.670053 |    4 | 0 |\n| 0 | 0.000000 |   27.940056 |    1 | 0 |\n| 0 | 0.000000 |   35.560071 |    1 | 0 |\n| 0 | 0.000000 |  122.000000 |    1 | 0 |\n| 0 | 0.000000 | 1025.000000 |    1 | 0 |\n| 0 | 0.000000 | 1200.000000 |    1 | 0 |\n| 0 | 1.900000 |    6.400000 |    1 | 0 |\n| 0 | 2.500000 |    0.000000 |    1 | 0 |\n| 0 | 2.540005 |    3.810008 |    1 | 0 |\n| 0 | 2.600000 |    4.000000 |    1 | 0 |\n| 0 | 2.600000 |    7.200000 |    1 | 0 |\n| 0 | 3.016256 |  320.040640 |    1 | 0 |\n| 0 | 3.200000 |    2.500000 |    1 | 0 |\n| 0 | 4.300000 |    7.000000 |    1 | 0 |\n| 0 | 4.300000 |   14.700000 |    1 | 0 |\n| 0 | 4.500000 |    7.700000 |    1 | 0 |\n| 0 | 4.500000 |   10.300000 |    1 | 0 |\n| 0 | 4.762510 |    7.620015 |    1 | 0 |\n| 0 | 4.921260 |    4.921260 |    1 | 0 |\n| 0 | 5.000000 |    4.100000 |    1 | 0 |\n| 0 | 5.000000 |    6.400000 |    1 | 0 |\n| 0 | 5.000000 |   10.000000 |    1 | 0 |\n| 0 | 5.000000 |   10.100000 |    7 | 0 |\n| ⋮ | ⋮ | ⋮ | ⋮ | ⋮ |\n| NA | NA | 121.9000 |     1 | NA |\n| NA | NA | 121.9202 |     5 | NA |\n| NA | NA | 121.9202 |     3 | NA |\n| NA | NA | 123.2000 |     1 | NA |\n| NA | NA | 127.0000 |     2 | NA |\n| NA | NA | 128.2000 |     1 | NA |\n| NA | NA | 128.2703 |     1 | NA |\n| NA | NA | 132.1000 |     1 | NA |\n| NA | NA | 133.3000 |     1 | NA |\n| NA | NA | 134.6000 |     1 | NA |\n| NA | NA | 135.8903 |     1 | NA |\n| NA | NA | 136.5253 |     1 | NA |\n| NA | NA | 137.1603 |     7 | NA |\n| NA | NA | 139.7000 |     1 | NA |\n| NA | NA | 139.7003 |     1 | NA |\n| NA | NA | 142.2403 |     1 | NA |\n| NA | NA | 143.5103 |     1 | NA |\n| NA | NA | 146.0503 |     2 | NA |\n| NA | NA | 161.2903 |     1 | NA |\n| NA | NA | 162.5000 |     1 | NA |\n| NA | NA | 193.0000 |     2 | NA |\n| NA | NA | 199.3904 |     1 | NA |\n| NA | NA | 233.7000 |     1 | NA |\n| NA | NA | 243.8405 |     1 | NA |\n| NA | NA | 289.5606 |     1 | NA |\n| NA | NA | 290.1956 |     1 | NA |\n| NA | NA | 295.9106 |     1 | NA |\n| NA | NA | 307.3406 |     1 | NA |\n| NA | NA | 800.1016 |     2 | NA |\n| NA | NA |       NA | 17261 | NA |\n\n",
            "text/latex": "A grouped\\_df: 63379 × 5\n\\begin{tabular}{lllll}\n depth & height & width & cnt & avg.depth\\\\\n <dbl> & <dbl> & <dbl> & <int> & <dbl>\\\\\n\\hline\n\t 0 & 0.000000 &    0.000000 & 1764 & 0\\\\\n\t 0 & 0.000000 &   20.955042 &    2 & 0\\\\\n\t 0 & 0.000000 &   22.860046 &    1 & 0\\\\\n\t 0 & 0.000000 &   23.495047 &    1 & 0\\\\\n\t 0 & 0.000000 &   24.130048 &   11 & 0\\\\\n\t 0 & 0.000000 &   25.400051 &    2 & 0\\\\\n\t 0 & 0.000000 &   26.035052 &    1 & 0\\\\\n\t 0 & 0.000000 &   26.670053 &    4 & 0\\\\\n\t 0 & 0.000000 &   27.940056 &    1 & 0\\\\\n\t 0 & 0.000000 &   35.560071 &    1 & 0\\\\\n\t 0 & 0.000000 &  122.000000 &    1 & 0\\\\\n\t 0 & 0.000000 & 1025.000000 &    1 & 0\\\\\n\t 0 & 0.000000 & 1200.000000 &    1 & 0\\\\\n\t 0 & 1.900000 &    6.400000 &    1 & 0\\\\\n\t 0 & 2.500000 &    0.000000 &    1 & 0\\\\\n\t 0 & 2.540005 &    3.810008 &    1 & 0\\\\\n\t 0 & 2.600000 &    4.000000 &    1 & 0\\\\\n\t 0 & 2.600000 &    7.200000 &    1 & 0\\\\\n\t 0 & 3.016256 &  320.040640 &    1 & 0\\\\\n\t 0 & 3.200000 &    2.500000 &    1 & 0\\\\\n\t 0 & 4.300000 &    7.000000 &    1 & 0\\\\\n\t 0 & 4.300000 &   14.700000 &    1 & 0\\\\\n\t 0 & 4.500000 &    7.700000 &    1 & 0\\\\\n\t 0 & 4.500000 &   10.300000 &    1 & 0\\\\\n\t 0 & 4.762510 &    7.620015 &    1 & 0\\\\\n\t 0 & 4.921260 &    4.921260 &    1 & 0\\\\\n\t 0 & 5.000000 &    4.100000 &    1 & 0\\\\\n\t 0 & 5.000000 &    6.400000 &    1 & 0\\\\\n\t 0 & 5.000000 &   10.000000 &    1 & 0\\\\\n\t 0 & 5.000000 &   10.100000 &    7 & 0\\\\\n\t ⋮ & ⋮ & ⋮ & ⋮ & ⋮\\\\\n\t NA & NA & 121.9000 &     1 & NA\\\\\n\t NA & NA & 121.9202 &     5 & NA\\\\\n\t NA & NA & 121.9202 &     3 & NA\\\\\n\t NA & NA & 123.2000 &     1 & NA\\\\\n\t NA & NA & 127.0000 &     2 & NA\\\\\n\t NA & NA & 128.2000 &     1 & NA\\\\\n\t NA & NA & 128.2703 &     1 & NA\\\\\n\t NA & NA & 132.1000 &     1 & NA\\\\\n\t NA & NA & 133.3000 &     1 & NA\\\\\n\t NA & NA & 134.6000 &     1 & NA\\\\\n\t NA & NA & 135.8903 &     1 & NA\\\\\n\t NA & NA & 136.5253 &     1 & NA\\\\\n\t NA & NA & 137.1603 &     7 & NA\\\\\n\t NA & NA & 139.7000 &     1 & NA\\\\\n\t NA & NA & 139.7003 &     1 & NA\\\\\n\t NA & NA & 142.2403 &     1 & NA\\\\\n\t NA & NA & 143.5103 &     1 & NA\\\\\n\t NA & NA & 146.0503 &     2 & NA\\\\\n\t NA & NA & 161.2903 &     1 & NA\\\\\n\t NA & NA & 162.5000 &     1 & NA\\\\\n\t NA & NA & 193.0000 &     2 & NA\\\\\n\t NA & NA & 199.3904 &     1 & NA\\\\\n\t NA & NA & 233.7000 &     1 & NA\\\\\n\t NA & NA & 243.8405 &     1 & NA\\\\\n\t NA & NA & 289.5606 &     1 & NA\\\\\n\t NA & NA & 290.1956 &     1 & NA\\\\\n\t NA & NA & 295.9106 &     1 & NA\\\\\n\t NA & NA & 307.3406 &     1 & NA\\\\\n\t NA & NA & 800.1016 &     2 & NA\\\\\n\t NA & NA &       NA & 17261 & NA\\\\\n\\end{tabular}\n",
            "text/plain": [
              "      depth height   width       cnt   avg.depth\n",
              "1     0     0.000000    0.000000 1764  0        \n",
              "2     0     0.000000   20.955042    2  0        \n",
              "3     0     0.000000   22.860046    1  0        \n",
              "4     0     0.000000   23.495047    1  0        \n",
              "5     0     0.000000   24.130048   11  0        \n",
              "6     0     0.000000   25.400051    2  0        \n",
              "7     0     0.000000   26.035052    1  0        \n",
              "8     0     0.000000   26.670053    4  0        \n",
              "9     0     0.000000   27.940056    1  0        \n",
              "10    0     0.000000   35.560071    1  0        \n",
              "11    0     0.000000  122.000000    1  0        \n",
              "12    0     0.000000 1025.000000    1  0        \n",
              "13    0     0.000000 1200.000000    1  0        \n",
              "14    0     1.900000    6.400000    1  0        \n",
              "15    0     2.500000    0.000000    1  0        \n",
              "16    0     2.540005    3.810008    1  0        \n",
              "17    0     2.600000    4.000000    1  0        \n",
              "18    0     2.600000    7.200000    1  0        \n",
              "19    0     3.016256  320.040640    1  0        \n",
              "20    0     3.200000    2.500000    1  0        \n",
              "21    0     4.300000    7.000000    1  0        \n",
              "22    0     4.300000   14.700000    1  0        \n",
              "23    0     4.500000    7.700000    1  0        \n",
              "24    0     4.500000   10.300000    1  0        \n",
              "25    0     4.762510    7.620015    1  0        \n",
              "26    0     4.921260    4.921260    1  0        \n",
              "27    0     5.000000    4.100000    1  0        \n",
              "28    0     5.000000    6.400000    1  0        \n",
              "29    0     5.000000   10.000000    1  0        \n",
              "30    0     5.000000   10.100000    7  0        \n",
              "⋮     ⋮     ⋮        ⋮           ⋮     ⋮        \n",
              "63350 NA    NA       121.9000        1 NA       \n",
              "63351 NA    NA       121.9202        5 NA       \n",
              "63352 NA    NA       121.9202        3 NA       \n",
              "63353 NA    NA       123.2000        1 NA       \n",
              "63354 NA    NA       127.0000        2 NA       \n",
              "63355 NA    NA       128.2000        1 NA       \n",
              "63356 NA    NA       128.2703        1 NA       \n",
              "63357 NA    NA       132.1000        1 NA       \n",
              "63358 NA    NA       133.3000        1 NA       \n",
              "63359 NA    NA       134.6000        1 NA       \n",
              "63360 NA    NA       135.8903        1 NA       \n",
              "63361 NA    NA       136.5253        1 NA       \n",
              "63362 NA    NA       137.1603        7 NA       \n",
              "63363 NA    NA       139.7000        1 NA       \n",
              "63364 NA    NA       139.7003        1 NA       \n",
              "63365 NA    NA       142.2403        1 NA       \n",
              "63366 NA    NA       143.5103        1 NA       \n",
              "63367 NA    NA       146.0503        2 NA       \n",
              "63368 NA    NA       161.2903        1 NA       \n",
              "63369 NA    NA       162.5000        1 NA       \n",
              "63370 NA    NA       193.0000        2 NA       \n",
              "63371 NA    NA       199.3904        1 NA       \n",
              "63372 NA    NA       233.7000        1 NA       \n",
              "63373 NA    NA       243.8405        1 NA       \n",
              "63374 NA    NA       289.5606        1 NA       \n",
              "63375 NA    NA       290.1956        1 NA       \n",
              "63376 NA    NA       295.9106        1 NA       \n",
              "63377 NA    NA       307.3406        1 NA       \n",
              "63378 NA    NA       800.1016        2 NA       \n",
              "63379 NA    NA             NA    17261 NA       "
            ]
          },
          "metadata": {}
        }
      ]
    },
    {
      "cell_type": "code",
      "source": [
        ""
      ],
      "metadata": {
        "id": "g8nYEgmYx4xF"
      },
      "execution_count": null,
      "outputs": []
    }
  ]
}