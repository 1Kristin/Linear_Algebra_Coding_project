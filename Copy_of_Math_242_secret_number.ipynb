{
  "nbformat": 4,
  "nbformat_minor": 0,
  "metadata": {
    "colab": {
      "name": "Copy of Math_242_secret_number.ipynb",
      "provenance": [],
      "include_colab_link": true
    },
    "kernelspec": {
      "name": "python3",
      "display_name": "Python 3"
    }
  },
  "cells": [
    {
      "cell_type": "markdown",
      "metadata": {
        "id": "view-in-github",
        "colab_type": "text"
      },
      "source": [
        "<a href=\"https://colab.research.google.com/github/1Kristin/Linear_Algebra_Coding_project/blob/main/Copy_of_Math_242_secret_number.ipynb\" target=\"_parent\"><img src=\"https://colab.research.google.com/assets/colab-badge.svg\" alt=\"Open In Colab\"/></a>"
      ]
    },
    {
      "cell_type": "markdown",
      "metadata": {
        "id": "Ry_o-kLL_-wf"
      },
      "source": [
        "# Load the preliminary code"
      ]
    },
    {
      "cell_type": "code",
      "metadata": {
        "id": "dhOLtwrRRc9S"
      },
      "source": [
        "import matplotlib.pyplot as plt\n",
        "from sympy import Poly\n",
        "import sympy as sym\n",
        "import numpy as np\n",
        "from numpy import c_\n",
        "\n",
        "# We'll specify that x and t are variables:\n",
        "x, t = sym.symbols('x, t')\n",
        "\n",
        "ll = \"loaded\""
      ],
      "execution_count": 1,
      "outputs": []
    },
    {
      "cell_type": "code",
      "metadata": {
        "id": "AHRXKhal_Wcj",
        "colab": {
          "base_uri": "https://localhost:8080/"
        },
        "outputId": "863d2883-f4a2-4771-f03b-4494b94fcd67"
      },
      "source": [
        "lll = \" correctly!\"\n",
        "\n",
        "def rref(matrix):\n",
        "    A = np.array(matrix, dtype=np.float64)\n",
        "    \n",
        "    r = 0 #row\n",
        "    c = 0 #column\n",
        "\n",
        "    (maxr, maxc) = A.shape\n",
        "\n",
        "    prev_row_pivot = -1   # The previous row with a leading term:\n",
        "    tmp_pivot_row = -1\n",
        "    this_pivot_row = -1\n",
        "\n",
        "    for c in range(maxc):  # go through each column\n",
        "      tmp_pivot_row = -1  # reset the tmp pivot row\n",
        "      this_pivot_row = -1  # reset this pivot row\n",
        "      for r in range(maxr):  # Find the leading term in this column below prev_row_pivot\n",
        "        if ((r > prev_row_pivot) and (A[r][c] != 0.0)):\n",
        "          tmp_pivot_row = r  # find the new pivot row\n",
        "      if (tmp_pivot_row > -1):  # we found a candidate for the leading term:\n",
        "        #swap row this_pivot_row with (prev_row_pivot + 1)\n",
        "        A[[tmp_pivot_row, prev_row_pivot+1]] = A[[prev_row_pivot + 1, tmp_pivot_row]]\n",
        "        #set this_pivot_row to prev_row_pivot+1\n",
        "        this_pivot_row = prev_row_pivot + 1\n",
        "        #Now, normalize the row based on the pivot value:\n",
        "        A[ this_pivot_row ] = A[ this_pivot_row ] / A[ this_pivot_row ][c]\n",
        "        #Then, use this row to force 0's above and below the pivot entry:\n",
        "        #subtract multiples of of the this_pivot_row row from the others\n",
        "        for r_ in range(len(A)):\n",
        "            if r_ != this_pivot_row:\n",
        "                A[r_] = A[r_] - A[this_pivot_row] * A[r_][c] / A[this_pivot_row][c]\n",
        "        prev_row_pivot = this_pivot_row\n",
        "    return A    \n",
        "    \n",
        "    \n",
        "\n",
        "print(\">> The page \", ll, lll)"
      ],
      "execution_count": 2,
      "outputs": [
        {
          "output_type": "stream",
          "name": "stdout",
          "text": [
            ">> The page  loaded  correctly!\n"
          ]
        }
      ]
    },
    {
      "cell_type": "markdown",
      "metadata": {
        "id": "xVLAg1tp7aJX"
      },
      "source": [
        "# Set up the secret number"
      ]
    },
    {
      "cell_type": "markdown",
      "metadata": {
        "id": "2c12Csd440sV"
      },
      "source": [
        "You'll encode a secret number $s$ into a 4th or 5th degree polynomial as its vertical intercept.\n",
        "\n",
        "Once you've chosen $s$, then create a 4th or 5th degree polynomial $f$ such that the vertical intercept is $s$.\n"
      ]
    },
    {
      "cell_type": "code",
      "metadata": {
        "id": "bSeZFmS4vQWk",
        "colab": {
          "base_uri": "https://localhost:8080/",
          "height": 38
        },
        "outputId": "af8454d0-c5a3-4570-cf35-be88bf9df67c"
      },
      "source": [
        "# the secret number is s:\n",
        "\n",
        "s = 14\n",
        "\n",
        "p = Poly(14+2*x + 3*x**18, x, domain='RR')\n",
        "\n",
        "p"
      ],
      "execution_count": 3,
      "outputs": [
        {
          "output_type": "execute_result",
          "data": {
            "text/latex": "$\\displaystyle \\operatorname{Poly}{\\left( 3.0 x^{18} + 2.0 x + 14.0, x, domain=\\mathbb{R} \\right)}$",
            "text/plain": [
              "Poly(3.0*x**18 + 2.0*x + 14.0, x, domain='RR')"
            ]
          },
          "metadata": {},
          "execution_count": 3
        }
      ]
    },
    {
      "cell_type": "code",
      "metadata": {
        "id": "buHLWqEJ5Hds",
        "colab": {
          "base_uri": "https://localhost:8080/",
          "height": 37
        },
        "outputId": "8de39794-b055-452e-9bcd-3ea664f2f132"
      },
      "source": [
        "#  Change this to evaluate the polynomial at 0:\n",
        "p.eval(x, 2.1)\n",
        "\n",
        "# Check that this is your secret number:"
      ],
      "execution_count": 4,
      "outputs": [
        {
          "output_type": "execute_result",
          "data": {
            "text/latex": "$\\displaystyle 1892660.57719015$",
            "text/plain": [
              "1892660.57719015"
            ]
          },
          "metadata": {},
          "execution_count": 4
        }
      ]
    },
    {
      "cell_type": "markdown",
      "metadata": {
        "id": "ls3V1Lrnyr2P"
      },
      "source": [
        "# Generate your data points\n",
        "\n",
        "Use this code to generate the data points for your polynomial.  Write the data on the second page of your handout.  \n",
        "\n",
        "Writing \n",
        "\n",
        "```\n",
        "p.eval(x, 3)\n",
        "```\n",
        "\n",
        "will evaluate $p$ when $x = 3$.  Just change the $3$ to any value to evaluate $p$ at that input.\n",
        "\n",
        "Remember:  Keep your secret number and polynomial hidden."
      ]
    },
    {
      "cell_type": "code",
      "metadata": {
        "id": "5Ef1euoHynYu",
        "colab": {
          "base_uri": "https://localhost:8080/",
          "height": 37
        },
        "outputId": "beb84604-3538-46a8-d110-32e69aa12a77"
      },
      "source": [
        "p.eval(x, 3)"
      ],
      "execution_count": 5,
      "outputs": [
        {
          "output_type": "execute_result",
          "data": {
            "text/latex": "$\\displaystyle 1162261487.0$",
            "text/plain": [
              "1162261487.00000"
            ]
          },
          "metadata": {},
          "execution_count": 5
        }
      ]
    },
    {
      "cell_type": "markdown",
      "metadata": {
        "id": "a6e9mXs-z3qV"
      },
      "source": [
        "#  Decode the polynomial from another group\n",
        "\n",
        "In this section, we set up a linear system to find the polynomial and the secret number which was given to us by another group.\n",
        "\n",
        "First, set up a linear algebra system to find the polynomial on the handout and then enter the matrix here.  You may have to adjust the size of the matrix below to accommodate your data."
      ]
    },
    {
      "cell_type": "code",
      "metadata": {
        "id": "aC4OSnZ20YDh",
        "colab": {
          "base_uri": "https://localhost:8080/"
        },
        "outputId": "600449d1-67af-44bb-84b4-de2f98048073"
      },
      "source": [
        "# create the matrix:\n",
        "A = np.matrix([[ 2**5, 2**4, 2**3, 2**2, 2**1, 1],\n",
        "               [-2.002**5, 2.002**4,-2.002**3, 2.002**2,-2.002**1, 1],\n",
        "               [-1.53**5,1.53**4,-1.53**3,1.53**2,-1.53**1,1],\n",
        "               [0.694**5,0.694**4,0.694**3,0.694**2,0.694**1,1],\n",
        "               [-0.846**5,0.846**4,-0.846**3,0.846**2,-0.846**1,1],\n",
        "               [-1.118**5,1.118**4,-1.118**3,1.118**2,-1.118**1,1],\n",
        "               [5**5,5**4,5**3,5**2,5**1,1]])\n",
        " \n",
        "# create the vector for the right hand side:\n",
        "b = np.matrix([[87.916], [3.97], [-1.764],[8.014],[2.006],[0],[2460.91]])\n",
        "\n",
        "#Make sure the system looks appropriate:\n",
        "\n",
        "print(np.c_[A,b])"
      ],
      "execution_count": 8,
      "outputs": [
        {
          "output_type": "stream",
          "name": "stdout",
          "text": [
            "[[ 3.20000000e+01  1.60000000e+01  8.00000000e+00  4.00000000e+00\n",
            "   2.00000000e+00  1.00000000e+00  8.79160000e+01]\n",
            " [-3.21603203e+01  1.60640961e+01 -8.02402401e+00  4.00800400e+00\n",
            "  -2.00200000e+00  1.00000000e+00  3.97000000e+00]\n",
            " [-8.38411360e+00  5.47981281e+00 -3.58157700e+00  2.34090000e+00\n",
            "  -1.53000000e+00  1.00000000e+00 -1.76400000e+00]\n",
            " [ 1.60989426e-01  2.31973236e-01  3.34255384e-01  4.81636000e-01\n",
            "   6.94000000e-01  1.00000000e+00  8.01400000e+00]\n",
            " [-4.33362986e-01  5.12249393e-01 -6.05495736e-01  7.15716000e-01\n",
            "  -8.46000000e-01  1.00000000e+00  2.00600000e+00]\n",
            " [-1.74666259e+00  1.56231001e+00 -1.39741503e+00  1.24992400e+00\n",
            "  -1.11800000e+00  1.00000000e+00  0.00000000e+00]\n",
            " [ 3.12500000e+03  6.25000000e+02  1.25000000e+02  2.50000000e+01\n",
            "   5.00000000e+00  1.00000000e+00  2.46091000e+03]]\n"
          ]
        }
      ]
    },
    {
      "cell_type": "markdown",
      "metadata": {
        "id": "EDZT8emc5iGZ"
      },
      "source": [
        "##  Solve using Row Operations:\n",
        "\n",
        "We'll solve the augmented matrix  $\\left( A \\, | \\, \\vec{b} \\right)$ using the function\n",
        "\n",
        "```\n",
        "rref(np.c_[A,b])\n",
        "```\n",
        "\n",
        "to provide the reduced row echelon form of the matrix system $\\left(A \\, | \\, \\vec{b} \\right)$.\n"
      ]
    },
    {
      "cell_type": "code",
      "metadata": {
        "id": "9Qhe2zZjYAVL",
        "colab": {
          "base_uri": "https://localhost:8080/"
        },
        "outputId": "186237c6-7a1d-4ef0-c772-098fd4854de5"
      },
      "source": [
        "print(rref(np.c_[A,b]))"
      ],
      "execution_count": 9,
      "outputs": [
        {
          "output_type": "stream",
          "name": "stdout",
          "text": [
            "[[1. 0. 0. 0. 0. 0. 0.]\n",
            " [0. 1. 0. 0. 0. 0. 0.]\n",
            " [0. 0. 1. 0. 0. 0. 0.]\n",
            " [0. 0. 0. 1. 0. 0. 0.]\n",
            " [0. 0. 0. 0. 1. 0. 0.]\n",
            " [0. 0. 0. 0. 0. 1. 0.]\n",
            " [0. 0. 0. 0. 0. 0. 1.]]\n"
          ]
        }
      ]
    },
    {
      "cell_type": "markdown",
      "metadata": {
        "id": "6xHgTqYr1fuP"
      },
      "source": [
        "## Solve the system using numerical methods:\n",
        "\n",
        "We can also generate a solution using some more advanced numerical linear algebra techniques contained inside Numpy.\n",
        "\n",
        "To solve it this way, use:\n",
        "\n",
        "\n",
        "\n",
        "```\n",
        "np.linalg.solve(A,b)\n",
        "```\n",
        "\n",
        "or\n",
        "\n",
        "```\n",
        "np.linalg.lstsq(A,b,rcond=None)\n",
        "```\n",
        "\n"
      ]
    },
    {
      "cell_type": "code",
      "metadata": {
        "id": "769dXoztlBcx",
        "colab": {
          "base_uri": "https://localhost:8080/",
          "height": 363
        },
        "outputId": "de1415a3-82e0-4257-decf-54b8e429e9de"
      },
      "source": [
        "# Solve the system using a numerical linear algebra solution:\n",
        "np.linalg.solve(A,b)"
      ],
      "execution_count": 10,
      "outputs": [
        {
          "output_type": "error",
          "ename": "LinAlgError",
          "evalue": "ignored",
          "traceback": [
            "\u001b[0;31m---------------------------------------------------------------------------\u001b[0m",
            "\u001b[0;31mLinAlgError\u001b[0m                               Traceback (most recent call last)",
            "\u001b[0;32m<ipython-input-10-1b74ebc5c234>\u001b[0m in \u001b[0;36m<module>\u001b[0;34m()\u001b[0m\n\u001b[1;32m      1\u001b[0m \u001b[0;31m# Solve the system using a numerical linear algebra solution:\u001b[0m\u001b[0;34m\u001b[0m\u001b[0;34m\u001b[0m\u001b[0;34m\u001b[0m\u001b[0m\n\u001b[0;32m----> 2\u001b[0;31m \u001b[0mnp\u001b[0m\u001b[0;34m.\u001b[0m\u001b[0mlinalg\u001b[0m\u001b[0;34m.\u001b[0m\u001b[0msolve\u001b[0m\u001b[0;34m(\u001b[0m\u001b[0mA\u001b[0m\u001b[0;34m,\u001b[0m\u001b[0mb\u001b[0m\u001b[0;34m)\u001b[0m\u001b[0;34m\u001b[0m\u001b[0;34m\u001b[0m\u001b[0m\n\u001b[0m",
            "\u001b[0;32m<__array_function__ internals>\u001b[0m in \u001b[0;36msolve\u001b[0;34m(*args, **kwargs)\u001b[0m\n",
            "\u001b[0;32m/usr/local/lib/python3.7/dist-packages/numpy/linalg/linalg.py\u001b[0m in \u001b[0;36msolve\u001b[0;34m(a, b)\u001b[0m\n\u001b[1;32m    378\u001b[0m     \u001b[0ma\u001b[0m\u001b[0;34m,\u001b[0m \u001b[0m_\u001b[0m \u001b[0;34m=\u001b[0m \u001b[0m_makearray\u001b[0m\u001b[0;34m(\u001b[0m\u001b[0ma\u001b[0m\u001b[0;34m)\u001b[0m\u001b[0;34m\u001b[0m\u001b[0;34m\u001b[0m\u001b[0m\n\u001b[1;32m    379\u001b[0m     \u001b[0m_assert_stacked_2d\u001b[0m\u001b[0;34m(\u001b[0m\u001b[0ma\u001b[0m\u001b[0;34m)\u001b[0m\u001b[0;34m\u001b[0m\u001b[0;34m\u001b[0m\u001b[0m\n\u001b[0;32m--> 380\u001b[0;31m     \u001b[0m_assert_stacked_square\u001b[0m\u001b[0;34m(\u001b[0m\u001b[0ma\u001b[0m\u001b[0;34m)\u001b[0m\u001b[0;34m\u001b[0m\u001b[0;34m\u001b[0m\u001b[0m\n\u001b[0m\u001b[1;32m    381\u001b[0m     \u001b[0mb\u001b[0m\u001b[0;34m,\u001b[0m \u001b[0mwrap\u001b[0m \u001b[0;34m=\u001b[0m \u001b[0m_makearray\u001b[0m\u001b[0;34m(\u001b[0m\u001b[0mb\u001b[0m\u001b[0;34m)\u001b[0m\u001b[0;34m\u001b[0m\u001b[0;34m\u001b[0m\u001b[0m\n\u001b[1;32m    382\u001b[0m     \u001b[0mt\u001b[0m\u001b[0;34m,\u001b[0m \u001b[0mresult_t\u001b[0m \u001b[0;34m=\u001b[0m \u001b[0m_commonType\u001b[0m\u001b[0;34m(\u001b[0m\u001b[0ma\u001b[0m\u001b[0;34m,\u001b[0m \u001b[0mb\u001b[0m\u001b[0;34m)\u001b[0m\u001b[0;34m\u001b[0m\u001b[0;34m\u001b[0m\u001b[0m\n",
            "\u001b[0;32m/usr/local/lib/python3.7/dist-packages/numpy/linalg/linalg.py\u001b[0m in \u001b[0;36m_assert_stacked_square\u001b[0;34m(*arrays)\u001b[0m\n\u001b[1;32m    201\u001b[0m         \u001b[0mm\u001b[0m\u001b[0;34m,\u001b[0m \u001b[0mn\u001b[0m \u001b[0;34m=\u001b[0m \u001b[0ma\u001b[0m\u001b[0;34m.\u001b[0m\u001b[0mshape\u001b[0m\u001b[0;34m[\u001b[0m\u001b[0;34m-\u001b[0m\u001b[0;36m2\u001b[0m\u001b[0;34m:\u001b[0m\u001b[0;34m]\u001b[0m\u001b[0;34m\u001b[0m\u001b[0;34m\u001b[0m\u001b[0m\n\u001b[1;32m    202\u001b[0m         \u001b[0;32mif\u001b[0m \u001b[0mm\u001b[0m \u001b[0;34m!=\u001b[0m \u001b[0mn\u001b[0m\u001b[0;34m:\u001b[0m\u001b[0;34m\u001b[0m\u001b[0;34m\u001b[0m\u001b[0m\n\u001b[0;32m--> 203\u001b[0;31m             \u001b[0;32mraise\u001b[0m \u001b[0mLinAlgError\u001b[0m\u001b[0;34m(\u001b[0m\u001b[0;34m'Last 2 dimensions of the array must be square'\u001b[0m\u001b[0;34m)\u001b[0m\u001b[0;34m\u001b[0m\u001b[0;34m\u001b[0m\u001b[0m\n\u001b[0m\u001b[1;32m    204\u001b[0m \u001b[0;34m\u001b[0m\u001b[0m\n\u001b[1;32m    205\u001b[0m \u001b[0;32mdef\u001b[0m \u001b[0m_assert_finite\u001b[0m\u001b[0;34m(\u001b[0m\u001b[0;34m*\u001b[0m\u001b[0marrays\u001b[0m\u001b[0;34m)\u001b[0m\u001b[0;34m:\u001b[0m\u001b[0;34m\u001b[0m\u001b[0;34m\u001b[0m\u001b[0m\n",
            "\u001b[0;31mLinAlgError\u001b[0m: Last 2 dimensions of the array must be square"
          ]
        }
      ]
    },
    {
      "cell_type": "code",
      "metadata": {
        "id": "ZEjNcqQvQbYo"
      },
      "source": [
        "# Solve the system using the numerical least squares method:\n",
        "np.linalg.lstsq(A,b,rcond=None)"
      ],
      "execution_count": null,
      "outputs": []
    }
  ]
}