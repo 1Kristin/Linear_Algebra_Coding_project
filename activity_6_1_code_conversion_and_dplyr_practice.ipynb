{
  "nbformat": 4,
  "nbformat_minor": 0,
  "metadata": {
    "kernelspec": {
      "display_name": "R",
      "language": "R",
      "name": "ir"
    },
    "language_info": {
      "codemirror_mode": "r",
      "file_extension": ".r",
      "mimetype": "text/x-r-source",
      "name": "R",
      "pygments_lexer": "r",
      "version": "3.5.1"
    },
    "colab": {
      "name": "activity_6_1_code_conversion_and_dplyr_practice.ipynb",
      "provenance": [],
      "include_colab_link": true
    }
  },
  "cells": [
    {
      "cell_type": "markdown",
      "metadata": {
        "id": "view-in-github",
        "colab_type": "text"
      },
      "source": [
        "<a href=\"https://colab.research.google.com/github/1Kristin/Linear_Algebra_Coding_project/blob/main/activity_6_1_code_conversion_and_dplyr_practice.ipynb\" target=\"_parent\"><img src=\"https://colab.research.google.com/assets/colab-badge.svg\" alt=\"Open In Colab\"/></a>"
      ]
    },
    {
      "cell_type": "markdown",
      "metadata": {
        "id": "y7Uw0TxKiDdw"
      },
      "source": [
        "# Activity 6.1 - Code conversion and `dplyr` practice"
      ]
    },
    {
      "cell_type": "code",
      "metadata": {
        "id": "_pm3yK0piDd0"
      },
      "source": [
        "library('dplyr')"
      ],
      "execution_count": 12,
      "outputs": []
    },
    {
      "cell_type": "code",
      "metadata": {
        "id": "xpn1nF8wiDd2",
        "outputId": "b2b8ece3-5590-4c88-babf-f949f1eb6093",
        "colab": {
          "base_uri": "https://localhost:8080/",
          "height": 286
        }
      },
      "source": [
        "surveys <- read.csv('https://github.com/WSU-DataScience/DSCI_210_R_notebooks/raw/main/data/portal_data_joined.csv')\n",
        "head(surveys)"
      ],
      "execution_count": 13,
      "outputs": [
        {
          "output_type": "display_data",
          "data": {
            "text/plain": [
              "  record_id month day year plot_id species_id sex hindfoot_length weight\n",
              "1   1        7    16  1977 2       NL         M   32              NA    \n",
              "2  72        8    19  1977 2       NL         M   31              NA    \n",
              "3 224        9    13  1977 2       NL             NA              NA    \n",
              "4 266       10    16  1977 2       NL             NA              NA    \n",
              "5 349       11    12  1977 2       NL             NA              NA    \n",
              "6 363       11    12  1977 2       NL             NA              NA    \n",
              "  genus   species  taxa   plot_type\n",
              "1 Neotoma albigula Rodent Control  \n",
              "2 Neotoma albigula Rodent Control  \n",
              "3 Neotoma albigula Rodent Control  \n",
              "4 Neotoma albigula Rodent Control  \n",
              "5 Neotoma albigula Rodent Control  \n",
              "6 Neotoma albigula Rodent Control  "
            ],
            "text/latex": "A data.frame: 6 × 13\n\\begin{tabular}{r|lllllllllllll}\n  & record\\_id & month & day & year & plot\\_id & species\\_id & sex & hindfoot\\_length & weight & genus & species & taxa & plot\\_type\\\\\n  & <int> & <int> & <int> & <int> & <int> & <chr> & <chr> & <int> & <int> & <chr> & <chr> & <chr> & <chr>\\\\\n\\hline\n\t1 &   1 &  7 & 16 & 1977 & 2 & NL & M & 32 & NA & Neotoma & albigula & Rodent & Control\\\\\n\t2 &  72 &  8 & 19 & 1977 & 2 & NL & M & 31 & NA & Neotoma & albigula & Rodent & Control\\\\\n\t3 & 224 &  9 & 13 & 1977 & 2 & NL &   & NA & NA & Neotoma & albigula & Rodent & Control\\\\\n\t4 & 266 & 10 & 16 & 1977 & 2 & NL &   & NA & NA & Neotoma & albigula & Rodent & Control\\\\\n\t5 & 349 & 11 & 12 & 1977 & 2 & NL &   & NA & NA & Neotoma & albigula & Rodent & Control\\\\\n\t6 & 363 & 11 & 12 & 1977 & 2 & NL &   & NA & NA & Neotoma & albigula & Rodent & Control\\\\\n\\end{tabular}\n",
            "text/markdown": "\nA data.frame: 6 × 13\n\n| <!--/--> | record_id &lt;int&gt; | month &lt;int&gt; | day &lt;int&gt; | year &lt;int&gt; | plot_id &lt;int&gt; | species_id &lt;chr&gt; | sex &lt;chr&gt; | hindfoot_length &lt;int&gt; | weight &lt;int&gt; | genus &lt;chr&gt; | species &lt;chr&gt; | taxa &lt;chr&gt; | plot_type &lt;chr&gt; |\n|---|---|---|---|---|---|---|---|---|---|---|---|---|---|\n| 1 |   1 |  7 | 16 | 1977 | 2 | NL | M | 32 | NA | Neotoma | albigula | Rodent | Control |\n| 2 |  72 |  8 | 19 | 1977 | 2 | NL | M | 31 | NA | Neotoma | albigula | Rodent | Control |\n| 3 | 224 |  9 | 13 | 1977 | 2 | NL | <!----> | NA | NA | Neotoma | albigula | Rodent | Control |\n| 4 | 266 | 10 | 16 | 1977 | 2 | NL | <!----> | NA | NA | Neotoma | albigula | Rodent | Control |\n| 5 | 349 | 11 | 12 | 1977 | 2 | NL | <!----> | NA | NA | Neotoma | albigula | Rodent | Control |\n| 6 | 363 | 11 | 12 | 1977 | 2 | NL | <!----> | NA | NA | Neotoma | albigula | Rodent | Control |\n\n",
            "text/html": [
              "<table class=\"dataframe\">\n",
              "<caption>A data.frame: 6 × 13</caption>\n",
              "<thead>\n",
              "\t<tr><th></th><th scope=col>record_id</th><th scope=col>month</th><th scope=col>day</th><th scope=col>year</th><th scope=col>plot_id</th><th scope=col>species_id</th><th scope=col>sex</th><th scope=col>hindfoot_length</th><th scope=col>weight</th><th scope=col>genus</th><th scope=col>species</th><th scope=col>taxa</th><th scope=col>plot_type</th></tr>\n",
              "\t<tr><th></th><th scope=col>&lt;int&gt;</th><th scope=col>&lt;int&gt;</th><th scope=col>&lt;int&gt;</th><th scope=col>&lt;int&gt;</th><th scope=col>&lt;int&gt;</th><th scope=col>&lt;chr&gt;</th><th scope=col>&lt;chr&gt;</th><th scope=col>&lt;int&gt;</th><th scope=col>&lt;int&gt;</th><th scope=col>&lt;chr&gt;</th><th scope=col>&lt;chr&gt;</th><th scope=col>&lt;chr&gt;</th><th scope=col>&lt;chr&gt;</th></tr>\n",
              "</thead>\n",
              "<tbody>\n",
              "\t<tr><th scope=row>1</th><td>  1</td><td> 7</td><td>16</td><td>1977</td><td>2</td><td>NL</td><td>M</td><td>32</td><td>NA</td><td>Neotoma</td><td>albigula</td><td>Rodent</td><td>Control</td></tr>\n",
              "\t<tr><th scope=row>2</th><td> 72</td><td> 8</td><td>19</td><td>1977</td><td>2</td><td>NL</td><td>M</td><td>31</td><td>NA</td><td>Neotoma</td><td>albigula</td><td>Rodent</td><td>Control</td></tr>\n",
              "\t<tr><th scope=row>3</th><td>224</td><td> 9</td><td>13</td><td>1977</td><td>2</td><td>NL</td><td> </td><td>NA</td><td>NA</td><td>Neotoma</td><td>albigula</td><td>Rodent</td><td>Control</td></tr>\n",
              "\t<tr><th scope=row>4</th><td>266</td><td>10</td><td>16</td><td>1977</td><td>2</td><td>NL</td><td> </td><td>NA</td><td>NA</td><td>Neotoma</td><td>albigula</td><td>Rodent</td><td>Control</td></tr>\n",
              "\t<tr><th scope=row>5</th><td>349</td><td>11</td><td>12</td><td>1977</td><td>2</td><td>NL</td><td> </td><td>NA</td><td>NA</td><td>Neotoma</td><td>albigula</td><td>Rodent</td><td>Control</td></tr>\n",
              "\t<tr><th scope=row>6</th><td>363</td><td>11</td><td>12</td><td>1977</td><td>2</td><td>NL</td><td> </td><td>NA</td><td>NA</td><td>Neotoma</td><td>albigula</td><td>Rodent</td><td>Control</td></tr>\n",
              "</tbody>\n",
              "</table>\n"
            ]
          },
          "metadata": {}
        }
      ]
    },
    {
      "cell_type": "markdown",
      "metadata": {
        "id": "8kAcHWTpiDd3"
      },
      "source": [
        "## Problem 1\n",
        "\n",
        "\n",
        "Consider the following code that uses piping:\n",
        "  "
      ]
    },
    {
      "cell_type": "code",
      "metadata": {
        "scrolled": true,
        "id": "LxuxMvVmiDd3"
      },
      "source": [
        "surveys %>%\n",
        "  filter(weight < 5) %>%\n",
        "  select(species_id, sex, weight)"
      ],
      "execution_count": null,
      "outputs": []
    },
    {
      "cell_type": "markdown",
      "metadata": {
        "id": "Q7pVHpyliDd4"
      },
      "source": [
        "### A. Write an imperative version of this code.  "
      ]
    },
    {
      "cell_type": "code",
      "metadata": {
        "id": "L-0QKexHiDd4"
      },
      "source": [
        "surverys1 = filter(surveys, weight < 5)\n",
        "surverys2 = select(surverys1, species_id, sex, weight)\n",
        "surverys2\n"
      ],
      "execution_count": null,
      "outputs": []
    },
    {
      "cell_type": "markdown",
      "metadata": {
        "id": "511Jg0mwiDd5"
      },
      "source": [
        "### B. Write a functional version of this code.  "
      ]
    },
    {
      "cell_type": "code",
      "metadata": {
        "id": "N5FFnx5ziDd5",
        "outputId": "621ed30b-9f50-4344-a079-8d26e7756507",
        "colab": {
          "base_uri": "https://localhost:8080/",
          "height": 286
        }
      },
      "source": [
        "head(select(filter(surveys, weight <5),species_id, sex, weight))"
      ],
      "execution_count": 17,
      "outputs": [
        {
          "output_type": "display_data",
          "data": {
            "text/plain": [
              "  species_id sex weight\n",
              "1 PF         F   4     \n",
              "2 PF         F   4     \n",
              "3 PF         M   4     \n",
              "4 RM         F   4     \n",
              "5 RM         M   4     \n",
              "6 PF             4     "
            ],
            "text/latex": "A data.frame: 6 × 3\n\\begin{tabular}{r|lll}\n  & species\\_id & sex & weight\\\\\n  & <chr> & <chr> & <int>\\\\\n\\hline\n\t1 & PF & F & 4\\\\\n\t2 & PF & F & 4\\\\\n\t3 & PF & M & 4\\\\\n\t4 & RM & F & 4\\\\\n\t5 & RM & M & 4\\\\\n\t6 & PF &   & 4\\\\\n\\end{tabular}\n",
            "text/markdown": "\nA data.frame: 6 × 3\n\n| <!--/--> | species_id &lt;chr&gt; | sex &lt;chr&gt; | weight &lt;int&gt; |\n|---|---|---|---|\n| 1 | PF | F | 4 |\n| 2 | PF | F | 4 |\n| 3 | PF | M | 4 |\n| 4 | RM | F | 4 |\n| 5 | RM | M | 4 |\n| 6 | PF | <!----> | 4 |\n\n",
            "text/html": [
              "<table class=\"dataframe\">\n",
              "<caption>A data.frame: 6 × 3</caption>\n",
              "<thead>\n",
              "\t<tr><th></th><th scope=col>species_id</th><th scope=col>sex</th><th scope=col>weight</th></tr>\n",
              "\t<tr><th></th><th scope=col>&lt;chr&gt;</th><th scope=col>&lt;chr&gt;</th><th scope=col>&lt;int&gt;</th></tr>\n",
              "</thead>\n",
              "<tbody>\n",
              "\t<tr><th scope=row>1</th><td>PF</td><td>F</td><td>4</td></tr>\n",
              "\t<tr><th scope=row>2</th><td>PF</td><td>F</td><td>4</td></tr>\n",
              "\t<tr><th scope=row>3</th><td>PF</td><td>M</td><td>4</td></tr>\n",
              "\t<tr><th scope=row>4</th><td>RM</td><td>F</td><td>4</td></tr>\n",
              "\t<tr><th scope=row>5</th><td>RM</td><td>M</td><td>4</td></tr>\n",
              "\t<tr><th scope=row>6</th><td>PF</td><td> </td><td>4</td></tr>\n",
              "</tbody>\n",
              "</table>\n"
            ]
          },
          "metadata": {}
        }
      ]
    },
    {
      "cell_type": "markdown",
      "metadata": {
        "id": "qNeGO7RRiDd6"
      },
      "source": [
        "Now consider the following imperative code:"
      ]
    },
    {
      "cell_type": "code",
      "metadata": {
        "id": "NfEu8Y58iDd6"
      },
      "source": [
        "x <- rnorm(100)\n",
        "x_rounded <- round(x, 1)\n",
        "x_rounded_sorted <- sort(x_rounded)\n",
        "x_rounded_sorted_smallest10 <- head(x_rounded_sorted, 10)\n",
        "sum_x_rounded_sorted_smallest10 <- sum(x_rounded_sorted_smallest10)"
      ],
      "execution_count": 22,
      "outputs": []
    },
    {
      "cell_type": "markdown",
      "metadata": {
        "id": "930I5ZSsiDd6"
      },
      "source": [
        "### C. Write a functional version of this code.  "
      ]
    },
    {
      "cell_type": "code",
      "metadata": {
        "id": "YRqyw4LfiDd7",
        "outputId": "34fa7565-db1e-4b5d-bb22-427d5cf1fa62",
        "colab": {
          "base_uri": "https://localhost:8080/",
          "height": 34
        }
      },
      "source": [
        "sum(head(sort(round(rnorm(100), 1)), 10))"
      ],
      "execution_count": 26,
      "outputs": [
        {
          "output_type": "display_data",
          "data": {
            "text/plain": [
              "[1] -22"
            ],
            "text/latex": "-22",
            "text/markdown": "-22",
            "text/html": [
              "-22"
            ]
          },
          "metadata": {}
        }
      ]
    },
    {
      "cell_type": "markdown",
      "metadata": {
        "id": "M68Fh44AiDd7"
      },
      "source": [
        "### D. Write a version of this code that uses piping. "
      ]
    },
    {
      "cell_type": "code",
      "metadata": {
        "id": "d_DD4077iDd7",
        "outputId": "d2ce38fd-2e66-4bab-e110-f738bd959298",
        "colab": {
          "base_uri": "https://localhost:8080/",
          "height": 34
        }
      },
      "source": [
        "rnorm (100) %>%\n",
        "round(1) %>%\n",
        "sort %>%\n",
        "head(10)%>%\n",
        "sum \n"
      ],
      "execution_count": 27,
      "outputs": [
        {
          "output_type": "display_data",
          "data": {
            "text/plain": [
              "[1] -21.9"
            ],
            "text/latex": "-21.9",
            "text/markdown": "-21.9",
            "text/html": [
              "-21.9"
            ]
          },
          "metadata": {}
        }
      ]
    },
    {
      "cell_type": "markdown",
      "metadata": {
        "id": "rUJlh47uiDd8"
      },
      "source": [
        "## Problem 2\n",
        "  Create a new data frame from the `surveys` data that meets the following criteria: \n",
        "  \n",
        "- The data frame contains only the **`species_id`** column and a new column named  **`hindfoot_half`**.\n",
        "- The new column **`'hindfoot_half`** should be created so that its values are half the **`hindfoot_length`** values.\n",
        "- Finally, all rows in this data frame should have values of `hindfoot_half` that are less than 30.\n",
        "\n",
        "Hint: think about how the commands should be ordered to produce this data frame!\n",
        "  \n",
        "  "
      ]
    },
    {
      "cell_type": "code",
      "metadata": {
        "id": "ikYd5khpiDd8",
        "outputId": "d4becaee-0d64-47c1-cc04-b3398add701a",
        "colab": {
          "base_uri": "https://localhost:8080/",
          "height": 1000
        }
      },
      "source": [
        "surveys %>%\n",
        "mutate(hindfoot_half = hindfoot_length * 0.5) %>%\n",
        "filter(hindfoot_length < 30) %>%\n",
        "select(species_id, hindfoot_half)"
      ],
      "execution_count": 32,
      "outputs": [
        {
          "output_type": "display_data",
          "data": {
            "text/plain": [
              "      species_id hindfoot_half\n",
              "1     NL         14.0         \n",
              "2     NL         10.5         \n",
              "3     NL         10.5         \n",
              "4     NL         14.5         \n",
              "5     NL         14.5         \n",
              "6     DM         12.5         \n",
              "7     PF          7.5         \n",
              "8     PF          8.0         \n",
              "9     PF          7.5         \n",
              "10    PF          7.0         \n",
              "11    PF          7.0         \n",
              "12    PF          8.0         \n",
              "13    PF          7.5         \n",
              "14    PF          8.0         \n",
              "15    PF          7.0         \n",
              "16    PF          7.5         \n",
              "17    PF          8.5         \n",
              "18    PF          7.5         \n",
              "19    PF          8.0         \n",
              "20    PF          8.5         \n",
              "21    PE         10.0         \n",
              "22    PE          9.5         \n",
              "23    PE         13.0         \n",
              "24    PE         11.0         \n",
              "25    PE         10.0         \n",
              "26    PE         10.0         \n",
              "27    PE         10.0         \n",
              "28    PE         10.0         \n",
              "29    PE         10.5         \n",
              "30    PE         10.5         \n",
              "⋮     ⋮          ⋮            \n",
              "15342 PM         10.0         \n",
              "15343 PM         10.5         \n",
              "15344 RF          8.5         \n",
              "15345 RF          9.0         \n",
              "15346 PB         13.0         \n",
              "15347 PB         13.5         \n",
              "15348 PB         13.0         \n",
              "15349 PB         13.5         \n",
              "15350 PB         14.0         \n",
              "15351 PB         13.5         \n",
              "15352 PB         13.0         \n",
              "15353 PB         13.0         \n",
              "15354 PB         13.0         \n",
              "15355 PB         13.5         \n",
              "15356 PB         12.5         \n",
              "15357 PB         13.0         \n",
              "15358 PB         13.0         \n",
              "15359 PB         13.0         \n",
              "15360 PB         13.5         \n",
              "15361 PB         11.0         \n",
              "15362 PB         14.0         \n",
              "15363 PB         14.0         \n",
              "15364 PB         14.5         \n",
              "15365 PB         12.5         \n",
              "15366 PB         13.0         \n",
              "15367 PL         10.0         \n",
              "15368 PL         10.5         \n",
              "15369 PL         10.0         \n",
              "15370 PL         10.5         \n",
              "15371 PL         10.0         "
            ],
            "text/latex": "A data.frame: 15371 × 2\n\\begin{tabular}{ll}\n species\\_id & hindfoot\\_half\\\\\n <chr> & <dbl>\\\\\n\\hline\n\t NL & 14.0\\\\\n\t NL & 10.5\\\\\n\t NL & 10.5\\\\\n\t NL & 14.5\\\\\n\t NL & 14.5\\\\\n\t DM & 12.5\\\\\n\t PF &  7.5\\\\\n\t PF &  8.0\\\\\n\t PF &  7.5\\\\\n\t PF &  7.0\\\\\n\t PF &  7.0\\\\\n\t PF &  8.0\\\\\n\t PF &  7.5\\\\\n\t PF &  8.0\\\\\n\t PF &  7.0\\\\\n\t PF &  7.5\\\\\n\t PF &  8.5\\\\\n\t PF &  7.5\\\\\n\t PF &  8.0\\\\\n\t PF &  8.5\\\\\n\t PE & 10.0\\\\\n\t PE &  9.5\\\\\n\t PE & 13.0\\\\\n\t PE & 11.0\\\\\n\t PE & 10.0\\\\\n\t PE & 10.0\\\\\n\t PE & 10.0\\\\\n\t PE & 10.0\\\\\n\t PE & 10.5\\\\\n\t PE & 10.5\\\\\n\t ⋮ & ⋮\\\\\n\t PM & 10.0\\\\\n\t PM & 10.5\\\\\n\t RF &  8.5\\\\\n\t RF &  9.0\\\\\n\t PB & 13.0\\\\\n\t PB & 13.5\\\\\n\t PB & 13.0\\\\\n\t PB & 13.5\\\\\n\t PB & 14.0\\\\\n\t PB & 13.5\\\\\n\t PB & 13.0\\\\\n\t PB & 13.0\\\\\n\t PB & 13.0\\\\\n\t PB & 13.5\\\\\n\t PB & 12.5\\\\\n\t PB & 13.0\\\\\n\t PB & 13.0\\\\\n\t PB & 13.0\\\\\n\t PB & 13.5\\\\\n\t PB & 11.0\\\\\n\t PB & 14.0\\\\\n\t PB & 14.0\\\\\n\t PB & 14.5\\\\\n\t PB & 12.5\\\\\n\t PB & 13.0\\\\\n\t PL & 10.0\\\\\n\t PL & 10.5\\\\\n\t PL & 10.0\\\\\n\t PL & 10.5\\\\\n\t PL & 10.0\\\\\n\\end{tabular}\n",
            "text/markdown": "\nA data.frame: 15371 × 2\n\n| species_id &lt;chr&gt; | hindfoot_half &lt;dbl&gt; |\n|---|---|\n| NL | 14.0 |\n| NL | 10.5 |\n| NL | 10.5 |\n| NL | 14.5 |\n| NL | 14.5 |\n| DM | 12.5 |\n| PF |  7.5 |\n| PF |  8.0 |\n| PF |  7.5 |\n| PF |  7.0 |\n| PF |  7.0 |\n| PF |  8.0 |\n| PF |  7.5 |\n| PF |  8.0 |\n| PF |  7.0 |\n| PF |  7.5 |\n| PF |  8.5 |\n| PF |  7.5 |\n| PF |  8.0 |\n| PF |  8.5 |\n| PE | 10.0 |\n| PE |  9.5 |\n| PE | 13.0 |\n| PE | 11.0 |\n| PE | 10.0 |\n| PE | 10.0 |\n| PE | 10.0 |\n| PE | 10.0 |\n| PE | 10.5 |\n| PE | 10.5 |\n| ⋮ | ⋮ |\n| PM | 10.0 |\n| PM | 10.5 |\n| RF |  8.5 |\n| RF |  9.0 |\n| PB | 13.0 |\n| PB | 13.5 |\n| PB | 13.0 |\n| PB | 13.5 |\n| PB | 14.0 |\n| PB | 13.5 |\n| PB | 13.0 |\n| PB | 13.0 |\n| PB | 13.0 |\n| PB | 13.5 |\n| PB | 12.5 |\n| PB | 13.0 |\n| PB | 13.0 |\n| PB | 13.0 |\n| PB | 13.5 |\n| PB | 11.0 |\n| PB | 14.0 |\n| PB | 14.0 |\n| PB | 14.5 |\n| PB | 12.5 |\n| PB | 13.0 |\n| PL | 10.0 |\n| PL | 10.5 |\n| PL | 10.0 |\n| PL | 10.5 |\n| PL | 10.0 |\n\n",
            "text/html": [
              "<table class=\"dataframe\">\n",
              "<caption>A data.frame: 15371 × 2</caption>\n",
              "<thead>\n",
              "\t<tr><th scope=col>species_id</th><th scope=col>hindfoot_half</th></tr>\n",
              "\t<tr><th scope=col>&lt;chr&gt;</th><th scope=col>&lt;dbl&gt;</th></tr>\n",
              "</thead>\n",
              "<tbody>\n",
              "\t<tr><td>NL</td><td>14.0</td></tr>\n",
              "\t<tr><td>NL</td><td>10.5</td></tr>\n",
              "\t<tr><td>NL</td><td>10.5</td></tr>\n",
              "\t<tr><td>NL</td><td>14.5</td></tr>\n",
              "\t<tr><td>NL</td><td>14.5</td></tr>\n",
              "\t<tr><td>DM</td><td>12.5</td></tr>\n",
              "\t<tr><td>PF</td><td> 7.5</td></tr>\n",
              "\t<tr><td>PF</td><td> 8.0</td></tr>\n",
              "\t<tr><td>PF</td><td> 7.5</td></tr>\n",
              "\t<tr><td>PF</td><td> 7.0</td></tr>\n",
              "\t<tr><td>PF</td><td> 7.0</td></tr>\n",
              "\t<tr><td>PF</td><td> 8.0</td></tr>\n",
              "\t<tr><td>PF</td><td> 7.5</td></tr>\n",
              "\t<tr><td>PF</td><td> 8.0</td></tr>\n",
              "\t<tr><td>PF</td><td> 7.0</td></tr>\n",
              "\t<tr><td>PF</td><td> 7.5</td></tr>\n",
              "\t<tr><td>PF</td><td> 8.5</td></tr>\n",
              "\t<tr><td>PF</td><td> 7.5</td></tr>\n",
              "\t<tr><td>PF</td><td> 8.0</td></tr>\n",
              "\t<tr><td>PF</td><td> 8.5</td></tr>\n",
              "\t<tr><td>PE</td><td>10.0</td></tr>\n",
              "\t<tr><td>PE</td><td> 9.5</td></tr>\n",
              "\t<tr><td>PE</td><td>13.0</td></tr>\n",
              "\t<tr><td>PE</td><td>11.0</td></tr>\n",
              "\t<tr><td>PE</td><td>10.0</td></tr>\n",
              "\t<tr><td>PE</td><td>10.0</td></tr>\n",
              "\t<tr><td>PE</td><td>10.0</td></tr>\n",
              "\t<tr><td>PE</td><td>10.0</td></tr>\n",
              "\t<tr><td>PE</td><td>10.5</td></tr>\n",
              "\t<tr><td>PE</td><td>10.5</td></tr>\n",
              "\t<tr><td>⋮</td><td>⋮</td></tr>\n",
              "\t<tr><td>PM</td><td>10.0</td></tr>\n",
              "\t<tr><td>PM</td><td>10.5</td></tr>\n",
              "\t<tr><td>RF</td><td> 8.5</td></tr>\n",
              "\t<tr><td>RF</td><td> 9.0</td></tr>\n",
              "\t<tr><td>PB</td><td>13.0</td></tr>\n",
              "\t<tr><td>PB</td><td>13.5</td></tr>\n",
              "\t<tr><td>PB</td><td>13.0</td></tr>\n",
              "\t<tr><td>PB</td><td>13.5</td></tr>\n",
              "\t<tr><td>PB</td><td>14.0</td></tr>\n",
              "\t<tr><td>PB</td><td>13.5</td></tr>\n",
              "\t<tr><td>PB</td><td>13.0</td></tr>\n",
              "\t<tr><td>PB</td><td>13.0</td></tr>\n",
              "\t<tr><td>PB</td><td>13.0</td></tr>\n",
              "\t<tr><td>PB</td><td>13.5</td></tr>\n",
              "\t<tr><td>PB</td><td>12.5</td></tr>\n",
              "\t<tr><td>PB</td><td>13.0</td></tr>\n",
              "\t<tr><td>PB</td><td>13.0</td></tr>\n",
              "\t<tr><td>PB</td><td>13.0</td></tr>\n",
              "\t<tr><td>PB</td><td>13.5</td></tr>\n",
              "\t<tr><td>PB</td><td>11.0</td></tr>\n",
              "\t<tr><td>PB</td><td>14.0</td></tr>\n",
              "\t<tr><td>PB</td><td>14.0</td></tr>\n",
              "\t<tr><td>PB</td><td>14.5</td></tr>\n",
              "\t<tr><td>PB</td><td>12.5</td></tr>\n",
              "\t<tr><td>PB</td><td>13.0</td></tr>\n",
              "\t<tr><td>PL</td><td>10.0</td></tr>\n",
              "\t<tr><td>PL</td><td>10.5</td></tr>\n",
              "\t<tr><td>PL</td><td>10.0</td></tr>\n",
              "\t<tr><td>PL</td><td>10.5</td></tr>\n",
              "\t<tr><td>PL</td><td>10.0</td></tr>\n",
              "</tbody>\n",
              "</table>\n"
            ]
          },
          "metadata": {}
        }
      ]
    },
    {
      "cell_type": "code",
      "source": [
        ""
      ],
      "metadata": {
        "id": "L7FT0oLClN58"
      },
      "execution_count": null,
      "outputs": []
    }
  ]
}